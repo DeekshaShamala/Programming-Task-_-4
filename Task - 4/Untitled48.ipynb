{
  "nbformat": 4,
  "nbformat_minor": 0,
  "metadata": {
    "colab": {
      "provenance": []
    },
    "kernelspec": {
      "name": "python3",
      "display_name": "Python 3"
    },
    "language_info": {
      "name": "python"
    }
  },
  "cells": [
    {
      "cell_type": "code",
      "execution_count": null,
      "metadata": {
        "id": "LDH0WPw70csI"
      },
      "outputs": [],
      "source": [
        "from textwrap import wrap\n",
        "\n",
        "def merge_the_tools(string, k):\n",
        "    \n",
        "    ls = wrap(string, k)\n",
        "    \n",
        "    new_ls = []\n",
        "    for x in ls:\n",
        "        result = x[0]\n",
        "        for i in range(1,len(x)):\n",
        "            if x[i] not in result:\n",
        "                result += x[i]\n",
        "            else: \n",
        "                continue\n",
        "        print(result)\n",
        " \n",
        "\n",
        "\n",
        "\n",
        "if __name__ == '__main__':\n",
        "    string, k = input(), int(input())\n",
        "    merge_the_tools(string, k)"
      ]
    }
  ]
}