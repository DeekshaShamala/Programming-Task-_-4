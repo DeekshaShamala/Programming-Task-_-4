{
  "nbformat": 4,
  "nbformat_minor": 0,
  "metadata": {
    "colab": {
      "provenance": []
    },
    "kernelspec": {
      "name": "python3",
      "display_name": "Python 3"
    },
    "language_info": {
      "name": "python"
    }
  },
  "cells": [
    {
      "cell_type": "code",
      "execution_count": null,
      "metadata": {
        "id": "dMMN8EnGLNdD"
      },
      "outputs": [],
      "source": [
        "def print_full_name(first, last):\n",
        "    # Write your code here\n",
        "    \n",
        "    print(\"Hello {} {}! You just delved into python.\".format(first, last))\n",
        "\n",
        "if __name__ == '__main__':\n",
        "    first_name = input()\n",
        "    last_name = input()\n",
        "    print_full_name(first_name, last_name)"
      ]
    }
  ]
}