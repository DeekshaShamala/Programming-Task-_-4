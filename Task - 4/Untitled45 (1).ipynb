{
  "nbformat": 4,
  "nbformat_minor": 0,
  "metadata": {
    "colab": {
      "provenance": []
    },
    "kernelspec": {
      "name": "python3",
      "display_name": "Python 3"
    },
    "language_info": {
      "name": "python"
    }
  },
  "cells": [
    {
      "cell_type": "code",
      "execution_count": null,
      "metadata": {
        "id": "40zX2_hSzNtX"
      },
      "outputs": [],
      "source": [
        "import string\n",
        "\n",
        "def print_rangoli(size):\n",
        "    letters = string.ascii_lowercase[:size]\n",
        "    width = 4 * size - 3\n",
        "    \n",
        "    for i in range(size-1,0,-1):\n",
        "        line = '-'.join(letters[size - 1: i: -1] + letters[i: size])\n",
        "        print(line.center(width, '-'))\n",
        "    for i in range(size):\n",
        "        line = '-'.join(letters[size - 1: i: -1] + letters[i: size])\n",
        "        print(line.center(width, '-'))\n",
        "        \n",
        "        \n",
        "        \n",
        "    # your code goes here\n",
        "\n",
        "if __name__ == '__main__':\n",
        "    n = int(input())\n",
        "    print_rangoli(n)"
      ]
    }
  ]
}