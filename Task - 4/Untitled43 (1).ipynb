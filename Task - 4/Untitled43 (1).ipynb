{
  "nbformat": 4,
  "nbformat_minor": 0,
  "metadata": {
    "colab": {
      "provenance": []
    },
    "kernelspec": {
      "name": "python3",
      "display_name": "Python 3"
    },
    "language_info": {
      "name": "python"
    }
  },
  "cells": [
    {
      "cell_type": "code",
      "execution_count": null,
      "metadata": {
        "id": "0LehPKaiLMGx"
      },
      "outputs": [],
      "source": [
        "def swap_case(s):\n",
        "    s1=\"\"\n",
        "    for i in range(len(s)):\n",
        "        \n",
        "        if s[i].isupper():\n",
        "            \n",
        "            s1+=s[i].lower()\n",
        "            \n",
        "        else:\n",
        "            \n",
        "            s1+=s[i].upper()\n",
        "        \n",
        "    return s1"
      ]
    }
  ]
}