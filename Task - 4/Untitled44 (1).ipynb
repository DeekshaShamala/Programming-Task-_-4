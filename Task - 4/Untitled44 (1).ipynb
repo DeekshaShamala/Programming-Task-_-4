{
  "nbformat": 4,
  "nbformat_minor": 0,
  "metadata": {
    "colab": {
      "provenance": []
    },
    "kernelspec": {
      "name": "python3",
      "display_name": "Python 3"
    },
    "language_info": {
      "name": "python"
    }
  },
  "cells": [
    {
      "cell_type": "code",
      "execution_count": null,
      "metadata": {
        "id": "COlMjkTkRMql"
      },
      "outputs": [],
      "source": [
        "def count_substring(string, sub_string):\n",
        "    n=0\n",
        "    for i in range(len(string)):\n",
        "        if(string[i: i+len(sub_string)] == sub_string):\n",
        "            n+=1\n",
        "    return n\n",
        "\n",
        "if __name__ == '__main__':\n",
        "    string = input().strip()\n",
        "    sub_string = input().strip()\n",
        "    \n",
        "    count = count_substring(string, sub_string)\n",
        "    print(count)"
      ]
    }
  ]
}