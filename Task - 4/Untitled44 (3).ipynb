{
  "nbformat": 4,
  "nbformat_minor": 0,
  "metadata": {
    "colab": {
      "provenance": []
    },
    "kernelspec": {
      "name": "python3",
      "display_name": "Python 3"
    },
    "language_info": {
      "name": "python"
    }
  },
  "cells": [
    {
      "cell_type": "code",
      "execution_count": null,
      "metadata": {
        "id": "z_RblUm1RL3L"
      },
      "outputs": [],
      "source": [
        "if __name__ == '__main__':\n",
        "    n = int(input())\n",
        "    s = ''\n",
        "    \n",
        "# Top cone\n",
        "\n",
        "for i in range(1,n*2,2):\n",
        "    s = s + (i * 'H').center(n * 2 - 1 , \" \") + '\\n'\n",
        "    \n",
        "# Top Square\n",
        "\n",
        "s1 = (n * 'H').center(n * 2 - 1 , \" \") + (n * 2 + 1) * \" \"\n",
        "\n",
        "for i in range(n + 1):\n",
        "    s = s + (2 * s1) + '\\n'\n",
        "\n",
        "# Middle line\n",
        "\n",
        "s2 = (n * 5 * 'H').center(n * 6 - 1 , \" \")\n",
        "\n",
        "for i in range(0 , n , 2):\n",
        "    s = s + s2 + '\\n'\n",
        "\n",
        "# Bottom square\n",
        "\n",
        "s3 = (n * 'H').center(n * 2 - 1 , \" \") + (n * 2 + 1) * \" \"\n",
        "\n",
        "for i in range(n + 1):\n",
        "    s = s + (2 * s3) + '\\n'\n",
        "\n",
        "# Bottom cone\n",
        "\n",
        "for i in range(n * 2 - 1 , 0 , -2):\n",
        "    s = s + (n * 4) * ' ' + (i * 'H').center(n * 2 - 1) + '\\n'\n",
        "\n",
        "print(s)"
      ]
    }
  ]
}