{
  "nbformat": 4,
  "nbformat_minor": 0,
  "metadata": {
    "colab": {
      "provenance": []
    },
    "kernelspec": {
      "name": "python3",
      "display_name": "Python 3"
    },
    "language_info": {
      "name": "python"
    }
  },
  "cells": [
    {
      "cell_type": "code",
      "execution_count": null,
      "metadata": {
        "id": "3f0yNeqZl7ZA"
      },
      "outputs": [],
      "source": [
        "def solve(s):\n",
        "    c= \"\"\n",
        "    for i in range(0,len(s)):\n",
        "        if i == 0:\n",
        "            c = c + (s[i].upper())\n",
        "        elif s[i-1] == \" \":\n",
        "            c = c + (s[i].upper())\n",
        "        else:\n",
        "            c = c + s[i]\n",
        "    return c\n",
        "\n",
        "if __name__ == '__main__':\n",
        "    fptr = open(os.environ['OUTPUT_PATH'], 'w')\n",
        "\n",
        "    s = input()\n",
        "\n",
        "    result = solve(s)\n",
        "\n",
        "    fptr.write(result + '\\n')\n",
        "\n",
        "    fptr.close()\n"
      ]
    }
  ]
}