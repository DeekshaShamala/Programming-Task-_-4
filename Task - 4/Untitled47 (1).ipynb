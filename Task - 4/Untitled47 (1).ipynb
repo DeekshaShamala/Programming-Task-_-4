{
  "nbformat": 4,
  "nbformat_minor": 0,
  "metadata": {
    "colab": {
      "provenance": []
    },
    "kernelspec": {
      "name": "python3",
      "display_name": "Python 3"
    },
    "language_info": {
      "name": "python"
    }
  },
  "cells": [
    {
      "cell_type": "code",
      "execution_count": null,
      "metadata": {
        "id": "0WI6x1Gfndif"
      },
      "outputs": [],
      "source": [
        "def minion_game(string):\n",
        "    \n",
        "    vowel=\"AOEUI\"\n",
        "    vowCounter=0\n",
        "    conCounter=0\n",
        "    i=0\n",
        "    while i < len(string):\n",
        "        \n",
        "        if  string[i] in vowel :\n",
        "            vowCounter+=len(string)-i\n",
        "            \n",
        "        else:\n",
        "            conCounter+=len(string)-i\n",
        "            \n",
        "        i+=1\n",
        "    \n",
        "    if vowCounter>conCounter:\n",
        "        print (\"Kevin\",vowCounter)\n",
        "    elif vowCounter<conCounter :\n",
        "        print (\"Stuart\",conCounter)\n",
        "    else :\n",
        "         print(\"Draw\")\n",
        "    # your code goes here\n",
        "\n",
        "if __name__ == '__main__':\n",
        "    s = input()\n",
        "    minion_game(s)"
      ]
    }
  ]
}