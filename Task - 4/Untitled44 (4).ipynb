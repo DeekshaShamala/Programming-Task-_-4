{
  "nbformat": 4,
  "nbformat_minor": 0,
  "metadata": {
    "colab": {
      "provenance": []
    },
    "kernelspec": {
      "name": "python3",
      "display_name": "Python 3"
    },
    "language_info": {
      "name": "python"
    }
  },
  "cells": [
    {
      "cell_type": "code",
      "execution_count": null,
      "metadata": {
        "id": "1bp80VwvRKrC"
      },
      "outputs": [],
      "source": [
        "import textwrap\n",
        "\n",
        "def wrap(string, max_width):\n",
        "    s=\"\"\n",
        "    for i in range(len(string)):\n",
        "        \n",
        "        s = s + string[(max_width*i): (max_width*(i+1))] + \"\\n\"\n",
        "        \n",
        "    return s\n",
        "        \n",
        "        \n",
        "        \n",
        "    \n",
        "\n",
        "if __name__ == '__main__':\n",
        "    string, max_width = input(), int(input())\n",
        "    result = wrap(string, max_width)\n",
        "    print(result)"
      ]
    }
  ]
}