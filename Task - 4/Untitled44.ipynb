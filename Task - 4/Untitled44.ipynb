{
  "nbformat": 4,
  "nbformat_minor": 0,
  "metadata": {
    "colab": {
      "provenance": []
    },
    "kernelspec": {
      "name": "python3",
      "display_name": "Python 3"
    },
    "language_info": {
      "name": "python"
    }
  },
  "cells": [
    {
      "cell_type": "code",
      "execution_count": null,
      "metadata": {
        "id": "_G7L2a7XRNch"
      },
      "outputs": [],
      "source": [
        "def mutate_string(string, position, character):\n",
        "    ls=list(string)\n",
        "    \n",
        "    ls[position]=character\n",
        "    \n",
        "    ls=\"\".join(ls)\n",
        "    \n",
        "    return ls\n",
        "\n",
        "if __name__ == '__main__':\n",
        "    s = input()\n",
        "    i, c = input().split()\n",
        "    s_new = mutate_string(s, int(i), c)\n",
        "    print(s_new)"
      ]
    }
  ]
}