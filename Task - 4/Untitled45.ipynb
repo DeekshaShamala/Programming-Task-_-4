{
  "nbformat": 4,
  "nbformat_minor": 0,
  "metadata": {
    "colab": {
      "provenance": []
    },
    "kernelspec": {
      "name": "python3",
      "display_name": "Python 3"
    },
    "language_info": {
      "name": "python"
    }
  },
  "cells": [
    {
      "cell_type": "code",
      "execution_count": null,
      "metadata": {
        "id": "NS2oirIizOqv"
      },
      "outputs": [],
      "source": [
        "n,m = map(int,input().split())\n",
        "\n",
        "if n % 2 != 0 and n >= 1:\n",
        "    \n",
        "    m = n * 3\n",
        "    \n",
        "    for i in range(0,int(n / 2)):\n",
        "        pattern = '.|.' * ((i * 2) + 1)\n",
        "        print(pattern.center(m,'-'))\n",
        "    print('WELCOME'.center(m,'-'))\n",
        "\n",
        "    for j in range(int(n /2 ), 0, -1):\n",
        "        pattern = '.|.' * ((j * 2) - 1)\n",
        "        print(pattern.center(m,'-'))"
      ]
    }
  ]
}