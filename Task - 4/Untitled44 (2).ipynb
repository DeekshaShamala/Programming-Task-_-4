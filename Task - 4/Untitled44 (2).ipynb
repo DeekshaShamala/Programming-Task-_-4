{
  "nbformat": 4,
  "nbformat_minor": 0,
  "metadata": {
    "colab": {
      "provenance": []
    },
    "kernelspec": {
      "name": "python3",
      "display_name": "Python 3"
    },
    "language_info": {
      "name": "python"
    }
  },
  "cells": [
    {
      "cell_type": "code",
      "execution_count": null,
      "metadata": {
        "id": "BHVmKaDdRMRx"
      },
      "outputs": [],
      "source": [
        "if __name__ == '__main__':\n",
        "    s = input()\n",
        "    \n",
        "    if any(c.isalnum() for c in s):\n",
        "        print(\"True\")\n",
        "        \n",
        "    else:\n",
        "        print(\"False\")\n",
        "        \n",
        "    if any(c.isalpha() for c in s):\n",
        "        print(\"True\")\n",
        "        \n",
        "    else:\n",
        "        print(\"False\")\n",
        "        \n",
        "    if any(c.isdigit() for c in s):\n",
        "        print(\"True\")\n",
        "        \n",
        "    else:\n",
        "        print(\"False\")\n",
        "        \n",
        "    if any(c.islower() for c in s):\n",
        "        print(\"True\")\n",
        "        \n",
        "    else:\n",
        "        print(\"False\")\n",
        "        \n",
        "    if any(c.isupper() for c in s):\n",
        "        print(\"True\")\n",
        "        \n",
        "    else:\n",
        "        print(\"False\")"
      ]
    }
  ]
}