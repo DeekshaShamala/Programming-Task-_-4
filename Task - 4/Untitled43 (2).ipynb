{
  "nbformat": 4,
  "nbformat_minor": 0,
  "metadata": {
    "colab": {
      "provenance": []
    },
    "kernelspec": {
      "name": "python3",
      "display_name": "Python 3"
    },
    "language_info": {
      "name": "python"
    }
  },
  "cells": [
    {
      "cell_type": "code",
      "execution_count": null,
      "metadata": {
        "id": "TmYmNxnJLLgW"
      },
      "outputs": [],
      "source": [
        "def split_and_join(line):\n",
        "    l1=line.split(\" \")\n",
        "    l2=(\"-\").join(l1)\n",
        "    return l2\n",
        "    # write your code here\n",
        "\n",
        "if __name__ == '__main__':\n",
        "    line = input()\n",
        "    result = split_and_join(line)\n",
        "    print(result)\n"
      ]
    }
  ]
}